{
 "cells": [
  {
   "cell_type": "markdown",
   "metadata": {},
   "source": [
    "# Projet Maths/Info : trouver les lignes de niveau d'une fonction\n"
   ]
  },
  {
   "cell_type": "markdown",
   "metadata": {},
   "source": [
    "L’objectif de ce projet numérique est de développer un programme Python\n",
    "permettant de calculer les lignes de niveau d’une fonction f de deux variables\n",
    "réelles et à valeurs réelles."
   ]
  },
  {
   "cell_type": "markdown",
   "metadata": {},
   "source": [
    "## L'initialisation : trouver un point de départ avec la fonction find_seed"
   ]
  },
  {
   "cell_type": "markdown",
   "metadata": {},
   "source": [
    "La première tache à effectuer pour pouvoir tracer la fonction est de trouver un point de départ.\n",
    "\n",
    "On suppose dans un premier temps que la fonction f est définie dans le carré unité $[0, 1]$ et on limite notre recherche aux lignes de niveau qui possèdent un point sur l’arête gauche du domaine de définition (de la forme $(0, y)$ pour un $0 ≤ y ≤ 1$)\n",
    "\n",
    "D'après le TVI, il semble raisonnable de prendre comme condition : $f(0,0)\\le c \\le f(0,1)$ pour être certain qu'il existe un $t$dans $[0,1]$ tel que $f(0,t) = c$.\n",
    "\n",
    "On implémente ainsi, ci-dessous, une fonction qui utilise ici la méthode de la dichotomie pour approximer la solution de l'équation précédente et renvoie le réel $t$.\n",
    "\n",
    "C'est la fonction $find seed$. \n"
   ]
  },
  {
   "cell_type": "code",
   "execution_count": 16,
   "metadata": {},
   "outputs": [],
   "source": [
    "def find_seed(f, c=0, eps = 2**(-26)): \n",
    "    \n",
    "\n",
    "    def g(x,y):\n",
    "            return f(x,y)-c\n",
    "\n",
    "    b=1\n",
    "    a=0\n",
    "    \n",
    "    if g(0,0) <= 0 <= g(0,1) or g(0,0) >= 0 >= g(0,1) : \n",
    "        while b-a > eps :\n",
    "            t = (a+b)/2\n",
    "            if g(0,t)*g(0,a) < 0 :\n",
    "                b = t \n",
    "            elif g(0,t)*g(0,a) == 0 : \n",
    "                return t \n",
    "            else : \n",
    "                a = t \n",
    "        return t \n",
    "    else : \n",
    "        return False\n",
    "\n"
   ]
  },
  {
   "cell_type": "markdown",
   "metadata": {},
   "source": [
    "On vérifie son bon fonctionnement avec quelques exemples : "
   ]
  },
  {
   "cell_type": "code",
   "execution_count": 17,
   "metadata": {},
   "outputs": [
    {
     "data": {
      "text/plain": [
       "0.7071067839860916"
      ]
     },
     "execution_count": 17,
     "metadata": {},
     "output_type": "execute_result"
    }
   ],
   "source": [
    "#Exemples tests \n",
    "\n",
    "def h(x,y):\n",
    "    return y**2 + 1\n",
    "\n",
    "def g(x,y):\n",
    "    return x**2 + y**2\n",
    "    \n",
    "find_seed(g,0.5)\n",
    "\n",
    "        "
   ]
  },
  {
   "cell_type": "markdown",
   "metadata": {},
   "source": [
    "## Ligne de niveau sur le carré unité"
   ]
  },
  {
   "cell_type": "markdown",
   "metadata": {},
   "source": [
    "Maintenant que l'on sait d'où partir, on va utiliser la méthode de la tangente pour trouver sur un cercle de rayon $delta$ la suite de notre courbe. Pour trouver la tangente de nos fonctions, on utilise la fonction $autograd$ "
   ]
  },
  {
   "cell_type": "code",
   "execution_count": 18,
   "metadata": {},
   "outputs": [],
   "source": [
    "import autograd \n",
    "from autograd import numpy as np \n",
    "from math import exp"
   ]
  },
  {
   "cell_type": "code",
   "execution_count": 19,
   "metadata": {},
   "outputs": [],
   "source": [
    "import autograd.numpy as np   # Thinly-wrapped version of Numpy\n",
    "from autograd import grad\n",
    "\n",
    "\n",
    "def gradient(f,x,y):\n",
    "    g = autograd.grad\n",
    "    return np.array([g(f,0)(x,y),g(f,1)(x,y)])\n"
   ]
  },
  {
   "cell_type": "code",
   "execution_count": 20,
   "metadata": {},
   "outputs": [
    {
     "data": {
      "text/plain": [
       "array([6., 4.])"
      ]
     },
     "execution_count": 20,
     "metadata": {},
     "output_type": "execute_result"
    }
   ],
   "source": [
    "#Exemples test\n",
    "\n",
    "def f(x,y):\n",
    "    return 3*x**2 + 2*y**2\n",
    "\n",
    "gradient(f,1.0,1.0)\n",
    "\n",
    "\n",
    "\n"
   ]
  },
  {
   "cell_type": "code",
   "execution_count": 21,
   "metadata": {},
   "outputs": [],
   "source": [
    "import matplotlib.pyplot as plt\n",
    "\n",
    "\n",
    "def simple_contour(f, c=0.0, delta = 0.01):\n",
    "    \n",
    "    xo = 0.0\n",
    "    yo = find_seed(f,c)\n",
    "    print(yo)\n",
    "    \n",
    "    les_x = [xo]\n",
    "    les_y = [yo]\n",
    "    \n",
    "    while 0 <= xo <= 1 and 0 <= yo <= 1 : \n",
    "        \n",
    "        grad_f = gradient(f, xo, yo)\n",
    "        tangente = ( np.array([grad_f[1],- grad_f[0]]) * delta )/ (grad_f[1]**2 + grad_f[0]**2)**(1/2)\n",
    "        \n",
    "        x = xo + tangente[0]\n",
    "        y = yo + tangente[1]\n",
    "        les_x.append(x)\n",
    "        les_y.append(y)\n",
    "        xo = x\n",
    "        yo = y \n",
    "    \n",
    "    plt.plot(les_x, les_y)\n",
    "    plt.show()\n"
   ]
  },
  {
   "cell_type": "code",
   "execution_count": 18,
   "metadata": {},
   "outputs": [
    {
     "name": "stdout",
     "output_type": "stream",
     "text": [
      "0.7071067839860916\n"
     ]
    },
    {
     "data": {
      "image/png": "[encoded data removed]",
      "text/plain": [
       "<Figure size 432x288 with 1 Axes>"
      ]
     },
     "metadata": {
      "needs_background": "light"
     },
     "output_type": "display_data"
    }
   ],
   "source": [
    "#Exemples test\n",
    "\n",
    "def f(x,y):\n",
    "    return x**2 + y**2\n",
    "\n",
    "simple_contour(f,0.5)"
   ]
  },
  {
   "cell_type": "code",
   "execution_count": 22,
   "metadata": {},
   "outputs": [],
   "source": [
    "def f(x,y):\n",
    "    return x**2 + y**2\n",
    "\n",
    "def h(x,y):\n",
    "    return  2*( np.exp(-x**2 -y**2)-np.exp(-(x-1)**2 - (y-1)**2)) "
   ]
  },
  {
   "cell_type": "markdown",
   "metadata": {},
   "source": [
    "## Du carré unité au plan : la fonction contour_complexe"
   ]
  },
  {
   "cell_type": "markdown",
   "metadata": {},
   "source": [
    "Pour étendre notre fonction, nous avons pris le parti de mutltiplier les poinst de départs (sur la verticale et maintenant aussi sur l'horizontale). D'où l'apparition de $find_seed_v$ et $find_seed_h$. \n",
    "Il en va de même pour $simple_contour$ qui utilisent pour leurs initialisation les différents résultats des fonctions $find_seed$"
   ]
  },
  {
   "cell_type": "code",
   "execution_count": 27,
   "metadata": {},
   "outputs": [],
   "source": [
    "\"\"\"On redéfinit simple_contour et find_seed pour pouvoir les appliquer entre des points quelconques et pas que entre 0 et 1 \n",
    "et on en définit également 2 nouvelles pour le cas horizontale (si on ne trouve pas de solution sur la verticale on cherchera sur l'horizontale)\"\"\"\n",
    "\n",
    "\n",
    "def find_seed_v (f,xi ,yi, c=0, eps = 2**(-26)): \n",
    "    \n",
    "\n",
    "    def g(x,y):\n",
    "            return f(x,y)-c\n",
    "\n",
    "    b=yi+1\n",
    "    a=yi\n",
    "    \n",
    "    if g(xi,yi) <= 0 <= g(xi,yi+1) or g(xi,yi) >= 0 >= g(xi,yi+1) : \n",
    "        while b-a > eps :\n",
    "            t = (a+b)/2\n",
    "            if g(xi,t)*g(xi,a) < 0 :\n",
    "                b = t \n",
    "            elif g(xi,t)*g(xi,a) == 0 : \n",
    "                return t \n",
    "            else : \n",
    "                a = t \n",
    "        return t \n",
    "    else : \n",
    "        #print('Pas trouvé')\n",
    "        return False\n",
    "    \n",
    "def find_seed_h(f,xi ,yi, c=0, eps = 2**(-26)): \n",
    "    \n",
    "    \n",
    "\n",
    "    def g(x,y):\n",
    "            return f(x,y)-c\n",
    "\n",
    "    b=xi+1\n",
    "    a=xi\n",
    "    \n",
    "    if g(xi,yi) <= 0 <= g(xi+1,yi) or g(xi,yi) >= 0 >= g(xi+1,yi) : \n",
    "        while b-a > eps :\n",
    "            t = (a+b)/2\n",
    "            if g(t,yi)*g(a,yi) < 0 :\n",
    "                b = t \n",
    "            elif g(t,yi)*g(a,yi) == 0 : \n",
    "                return t \n",
    "            else : \n",
    "                a = t \n",
    "        return t \n",
    "    else : \n",
    "        return False\n",
    "    \n",
    "def simple_contour_v(f,xi, yi, c=0.0, delta = 0.01):\n",
    "    \n",
    "    xo = xi\n",
    "    yo = find_seed_v(f,xi,yi,c)\n",
    "    l1 = -1\n",
    "    l2 = 1\n",
    "\n",
    "    if yo != False :\n",
    "        #print(yo)\n",
    "    \n",
    "        les_x = [xo]\n",
    "        les_y = [yo]\n",
    "    \n",
    "        grad_f = gradient(f, xo, yo)\n",
    "        tangente = ( np.array([l1*grad_f[1],l2*grad_f[0]]) * delta )/ (grad_f[1]**2 + grad_f[0]**2)**(1/2)        \n",
    "        x = xo + tangente[0]\n",
    "        y = yo + tangente[1]\n",
    "        \n",
    "        if x < xo : \n",
    "            l1, l2 = l2, l1\n",
    "    \n",
    "        while xi <= xo <= xi+1 and yi <= yo <= yi+1 :\n",
    "            \n",
    "            grad_f = gradient(f, xo, yo)\n",
    "            tangente = ( np.array([l1*grad_f[1],l2*grad_f[0]]) * delta )/ (grad_f[1]**2 + grad_f[0]**2)**(1/2)\n",
    "            \n",
    "        \n",
    "            x = xo + tangente[0]\n",
    "            y = yo + tangente[1]\n",
    "            les_x.append(x)\n",
    "            les_y.append(y)\n",
    "            xo = x\n",
    "            yo = y \n",
    "    \n",
    "        return (les_x, les_y)\n",
    "    else : \n",
    "        return None\n",
    "    \n",
    "def simple_contour_h(f,xi, yi, c=0.0, delta = 0.01):\n",
    "    \n",
    "    xo = find_seed_h(f,xi,yi,c)\n",
    "    yo = yi\n",
    "    l1 = -1\n",
    "    l2 = 1\n",
    "\n",
    "    if xo != False :\n",
    "        #print(xo)\n",
    "    \n",
    "        les_x = [xo]\n",
    "        les_y = [yo]\n",
    "    \n",
    "        grad_f = gradient(f, xo, yo)\n",
    "        tangente = ( np.array([l1*grad_f[1],l2*grad_f[0]]) * delta )/ (grad_f[1]**2 + grad_f[0]**2)**(1/2)        \n",
    "        x = xo + tangente[0]\n",
    "        y = yo + tangente[1]\n",
    "        \n",
    "        if y < yo : \n",
    "            l1, l2 = l2, l1\n",
    "    \n",
    "        while xi<= xo <= xi+1 and yi <= yo <= yi+1 :\n",
    "            \n",
    "            grad_f = gradient(f, xo, yo)\n",
    "            tangente = ( np.array([l1*grad_f[1],l2*grad_f[0]]) * delta )/ (grad_f[1]**2 + grad_f[0]**2)**(1/2)\n",
    "            \n",
    "        \n",
    "            x = xo + tangente[0]\n",
    "            y = yo + tangente[1]\n",
    "            les_x.append(x)\n",
    "            les_y.append(y)\n",
    "            xo = x\n",
    "            yo = y \n",
    "    \n",
    "        return (les_x, les_y)\n",
    "    else : \n",
    "        return None\n",
    "\n"
   ]
  },
  {
   "cell_type": "markdown",
   "metadata": {},
   "source": [
    "Une fois nos fonctions de base redefinies, il est temps de définir notre fonction $contour$ qui nous donne des courbes complètes grâce à une double boucle for. "
   ]
  },
  {
   "cell_type": "code",
   "execution_count": 28,
   "metadata": {},
   "outputs": [],
   "source": [
    "def contour(f, c=0.0, xc=[0.0, 1.0], yc = [0.0, 1.0], delta = 0.01):\n",
    "    fig = plt.figure(figsize = [20,20])\n",
    "    ax = plt.subplot(441)\n",
    "    ax.set_xlim(left=xc[0], right =xc[-1])\n",
    "    ax.set_ylim(bottom = yc[0], top = yc[-1])\n",
    "    \n",
    "    xs = []\n",
    "    ys = []\n",
    "    \n",
    "    for xi in xc : \n",
    "        for yi in yc:\n",
    "            \n",
    "            if find_seed_v(f,xi,yi,c) != False : \n",
    "                #print('Trouvé verticale', (xi,yi))\n",
    "                xs.append(simple_contour_v(f,xi,yi,c)[0]) \n",
    "                ys.append(simple_contour_v(f,xi,yi,c)[1])\n",
    "            else :\n",
    "                if find_seed_h(f,xi,yi,c) != False : \n",
    "                    #print('Trouvé horizon', (xi,yi))\n",
    "                    xs.append(simple_contour_h(f,xi,yi,c)[0]) \n",
    "                    ys.append(simple_contour_h(f,xi,yi,c)[1])\n",
    "    \n",
    "    \n",
    "            \n",
    "    for x,y in zip(xs,ys):\n",
    "        plt.plot(x,y)\n",
    "        #print('plot')\n",
    "    plt.show()\n",
    "        "
   ]
  },
  {
   "cell_type": "code",
   "execution_count": 26,
   "metadata": {},
   "outputs": [
    {
     "data": {
      "image/png": "[encoded data removed]",
      "text/plain": [
       "<Figure size 1440x1440 with 1 Axes>"
      ]
     },
     "metadata": {
      "needs_background": "light"
     },
     "output_type": "display_data"
    },
    {
     "data": {
      "image/png": "[encoded data removed]",
      "text/plain": [
       "<Figure size 1440x1440 with 1 Axes>"
      ]
     },
     "metadata": {
      "needs_background": "light"
     },
     "output_type": "display_data"
    },
    {
     "data": {
      "image/png": "[encoded data removed]",
      "text/plain": [
       "<Figure size 1440x1440 with 1 Axes>"
      ]
     },
     "metadata": {
      "needs_background": "light"
     },
     "output_type": "display_data"
    },
    {
     "data": {
      "image/png": "[encoded data removed]",
      "text/plain": [
       "<Figure size 1440x1440 with 1 Axes>"
      ]
     },
     "metadata": {
      "needs_background": "light"
     },
     "output_type": "display_data"
    }
   ],
   "source": [
    "#Exemples tests\n",
    "\n",
    "#contour(f, c=2.5, xc = list(np.linspace(-2,2,10)), yc = list(np.linspace(-2,2,10)))\n",
    "contour(h, c=1.5, xc = list(np.linspace(-3,3,20)), yc = list(np.linspace(-2,2,20)) )\n",
    "contour(h, c=1.0, xc = list(np.linspace(-3,3,20)), yc = list(np.linspace(-2,2,20)) )\n",
    "contour(h, c=0.5, xc = list(np.linspace(-3,3,20)), yc = list(np.linspace(-2,2,20)) )\n",
    "contour(h, c=0.0, xc = list(np.linspace(-3,3,20)), yc = list(np.linspace(-2,2,20)) )\n"
   ]
  }
 ],
 "metadata": {
  "kernelspec": {
   "display_name": "Python 3",
   "language": "python",
   "name": "python3"
  },
  "language_info": {
   "codemirror_mode": {
    "name": "ipython",
    "version": 3
   },
   "file_extension": ".py",
   "mimetype": "text/x-python",
   "name": "python",
   "nbconvert_exporter": "python",
   "pygments_lexer": "ipython3",
   "version": "3.7.3"
  }
 },
 "nbformat": 4,
 "nbformat_minor": 4
}
